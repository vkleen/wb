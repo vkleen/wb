{
 "cells": [
  {
   "cell_type": "code",
   "execution_count": 2,
   "id": "19eea5dd-6564-46c7-bd5c-d9bbab9752ba",
   "metadata": {},
   "outputs": [],
   "source": [
    ":e ImportQualifiedPost\n",
    ":l ./plotting.hs\n",
    "\n",
    "import Control.Monad.Bayes.Class\n",
    "import Control.Monad.Bayes.Integrator qualified as I"
   ]
  },
  {
   "cell_type": "code",
   "execution_count": 7,
   "id": "b5f9ac28-8497-4b18-b55e-ae82ebd0945d",
   "metadata": {},
   "outputs": [],
   "source": [
    "model :: MonadMeasure m => m Double\n",
    "model = do\n",
    "    m1 <- uniform 90 100\n",
    "    m2 <- uniform 70 100\n",
    "    normal 1 1"
   ]
  },
  {
   "cell_type": "code",
   "execution_count": null,
   "id": "57422c90-e8d0-4dd3-877b-c2a5fdbb36f0",
   "metadata": {},
   "outputs": [],
   "source": [
    "plot $ I.histogram 250 0.2 model"
   ]
  },
  {
   "cell_type": "code",
   "execution_count": null,
   "id": "f7f559a8-4a06-434e-9064-a480b93bbcab",
   "metadata": {},
   "outputs": [],
   "source": []
  }
 ],
 "metadata": {
  "kernelspec": {
   "display_name": "Haskell - nixpkgs",
   "language": "haskell",
   "name": "ihaskell_nixpkgs"
  },
  "language_info": {
   "codemirror_mode": "ihaskell",
   "file_extension": ".hs",
   "mimetype": "text/x-haskell",
   "name": "haskell",
   "pygments_lexer": "Haskell",
   "version": "9.0.2"
  }
 },
 "nbformat": 4,
 "nbformat_minor": 5
}
